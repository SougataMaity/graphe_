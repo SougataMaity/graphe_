{
 "cells": [
  {
   "cell_type": "code",
   "execution_count": 2,
   "metadata": {},
   "outputs": [],
   "source": [
    "\n",
    "def noYelling(text):\n",
    "    \n",
    "    text_ = text\n",
    "    if text_[len(text_)-1] == \"?\" or text_[len(text_)-1] == \"!\":\n",
    "        pan = text[len(text_)-1]\n",
    "        pan_ = pan\n",
    "\n",
    "        while True:\n",
    "            if pan_ == \"?\" or pan_ == \"!\":\n",
    "                text_ = text_[:-1]\n",
    "                pan_ = text_[len(text_)-1]\n",
    "            else:\n",
    "                break\n",
    "        reform_text = text_ + pan\n",
    "\n",
    "    else:\n",
    "        reform_text = text_\n",
    "    return f\"{text} => {reform_text}\"\n"
   ]
  },
  {
   "cell_type": "code",
   "execution_count": 5,
   "metadata": {},
   "outputs": [
    {
     "name": "stdout",
     "output_type": "stream",
     "text": [
      "What went wrong????????? => What went wrong?\n",
      "Oh my goodness!!! => Oh my goodness!\n",
      "I just!!! can!!! not!!! believe!!! it!!! => I just!!! can!!! not!!! believe!!! it!\n",
      "Oh my goodness! => Oh my goodness!\n",
      "I just cannot believe it. => I just cannot believe it.\n"
     ]
    }
   ],
   "source": [
    "print(noYelling(\"What went wrong?????????\"))\n",
    "print(noYelling(\"Oh my goodness!!!\"))\n",
    "print(noYelling(\"I just!!! can!!! not!!! believe!!! it!!!\")) \n",
    "print(noYelling(\"Oh my goodness!\"))\n",
    "print(noYelling(\"I just cannot believe it.\")) "
   ]
  }
 ],
 "metadata": {
  "kernelspec": {
   "display_name": "env",
   "language": "python",
   "name": "python3"
  },
  "language_info": {
   "codemirror_mode": {
    "name": "ipython",
    "version": 3
   },
   "file_extension": ".py",
   "mimetype": "text/x-python",
   "name": "python",
   "nbconvert_exporter": "python",
   "pygments_lexer": "ipython3",
   "version": "3.10.10"
  },
  "orig_nbformat": 4,
  "vscode": {
   "interpreter": {
    "hash": "bfbe7d84511aecb931d1b3ffd68f82ca99bdc705803a9d99618d9cabdcddb2b9"
   }
  }
 },
 "nbformat": 4,
 "nbformat_minor": 2
}
